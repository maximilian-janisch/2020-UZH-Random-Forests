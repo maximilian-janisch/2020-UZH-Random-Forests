{
 "cells": [
  {
   "cell_type": "markdown",
   "metadata": {},
   "source": [
    "# Machine learning: Final Project"
   ]
  },
  {
   "cell_type": "markdown",
   "metadata": {},
   "source": [
    "## Authors: Maximilian Janisch and Marco Bertenghi"
   ]
  },
  {
   "cell_type": "markdown",
   "metadata": {},
   "source": [
    "### Problem Description"
   ]
  },
  {
   "cell_type": "markdown",
   "metadata": {},
   "source": [
    "We have been assigned a multi-class classification problem, that is we are interested in correctly predicting if a given input in $\\mathcal{X} = \\mathbb{R}^d$ belongs to one of __three__ classes (i.e. $\\mathcal{Y} = \\{0,1,2\\}$). We are instructed to solve this multi-class classification problem by reducing it to a sequence of binary classification problems (i.e. where $\\mathcal{Y}'=\\{0,1\\}$). We are __not__ allowed to use the multi-class implementation of sklearn and one of the models we must implement must be the random forest model. The goal of the project is then to describe and document in detail how to find and implement the best machine learning algorithm for the dataset assigned to us.\n"
   ]
  },
  {
   "cell_type": "markdown",
   "metadata": {},
   "source": [
    "We are given a __E-SCOOTER DATASET__. The dataset contains data about the profitability of e-scooter companies. The goal is to predict, as well as possible, the profitability of e-scooter companies by using the information provided. The dataset comes as a csv file (comma-separated values file), named dataset20.csv and contains the following description:"
   ]
  },
  {
   "cell_type": "markdown",
   "metadata": {},
   "source": [
    "__E-SCOOTER DATASET__\n",
    "\n",
    "----------------------------------------------\n",
    "\n",
    "__Dataset description__:\n",
    "The data is compiled from cities, towns, and small villages in Germany, Austria, and Switzerland, classified according to the profitability of e-scooter companies active in that location. There are __thirteen different features__ associated with each location. The goal is to predict the profitability of an e-scooter company (feature \"class\") from the other features.\n",
    "\n",
    "__Attention!__\n",
    "Please notice that the data has been artificially generated. The dataset does not reflect real-world statistical correlations between features and labels.\n",
    "\n",
    "\tNumber of samples: 500\n",
    "\tNumber of features: 13 (numeric and strings) + one column of class labels (0,1,2)\n",
    "\tFeatures description:\n",
    "\t\tpub_trans: public transport index\n",
    "\t\tprice: price to rent per km\n",
    "\t\ttemperature: average tempereture during summer\n",
    "\t\tinhabitants: number of inhabitants\n",
    "\t\tregistered: number of registered users in thousand\n",
    "\t\tcountry: country\n",
    "\t\tid: internal dataset code\n",
    "\t\tnr_counterparts: nr_counterparts\n",
    "\t\tcars: number of cars per inhabitant\n",
    "\t\tlabour_cost: average labour cost in thousand per month\n",
    "\t\thumidity: absolute humidity in g/m3\n",
    "\t\twindspeed: average wind speed in km/h\n",
    "\t\tsize: size of city center in km2\n",
    "\t\tclass: profitability (0 = loss, 1 = balanced, 2 = profit) <--- LABEL TO PREDICT\n",
    "\n",
    "----------------------------------------\n"
   ]
  },
  {
   "cell_type": "markdown",
   "metadata": {},
   "source": [
    "We notice that:\n",
    "\n",
    "+ We have a total of 500 samples.\n",
    "+ We have a total of 13 features.\n",
    " + Not all features will be relevant, more on that later.\n",
    "+ The profitability is a class, it is the label we want to predict.\n",
    "+ The CSV file uses ';' as a delimiter."
   ]
  },
  {
   "cell_type": "markdown",
   "metadata": {},
   "source": [
    "# Coding part"
   ]
  },
  {
   "cell_type": "markdown",
   "metadata": {},
   "source": [
    "## Reading in the data"
   ]
  },
  {
   "cell_type": "code",
   "execution_count": 19,
   "metadata": {
    "pycharm": {
     "is_executing": false
    }
   },
   "outputs": [],
   "source": [
    "# Preliminary code, libraries we want to load\n",
    "import os\n",
    "\n",
    "import numpy as np\n",
    "import pandas as pd\n",
    "import matplotlib.pyplot as plt"
   ]
  },
  {
   "cell_type": "code",
   "execution_count": 20,
   "outputs": [],
   "source": [
    "# Preliminary code, global variables\n",
    "DATA_FILE = os.path.join(\"data\", \"dataset20.csv\")"
   ],
   "metadata": {
    "collapsed": false,
    "pycharm": {
     "name": "#%%\n",
     "is_executing": false
    }
   }
  },
  {
   "cell_type": "markdown",
   "metadata": {},
   "source": [
    "We will use the library _pandas_ for our data management."
   ]
  },
  {
   "cell_type": "code",
   "execution_count": 21,
   "metadata": {
    "pycharm": {
     "is_executing": false
    }
   },
   "outputs": [],
   "source": [
    "data = pd.read_csv(DATA_FILE, delimiter=\";\")\n",
    "x = data.drop(columns=\"class\")\n",
    "y = data[\"class\"]"
   ]
  },
  {
   "cell_type": "markdown",
   "source": [
    "As a brief sanity check: We can have a look at the dataset by printing the first five lines of data."
   ],
   "metadata": {
    "collapsed": false,
    "pycharm": {
     "name": "#%% md\n"
    }
   }
  },
  {
   "cell_type": "code",
   "execution_count": 22,
   "outputs": [
    {
     "name": "stdout",
     "text": [
      "   pub_trans     price  temperature  inhabitants  registered      country  \\\n",
      "0  14.202635  0.019019    25.175131     2.355282  118.021208      Germany   \n",
      "1  13.139854  0.153448    23.901338     4.150463   92.945396      Germany   \n",
      "2  13.204899  0.924526    22.453461     5.586596   99.359941  Switzerland   \n",
      "3  14.537539  2.190265    21.242409     4.836816  106.712314  Switzerland   \n",
      "4  11.778787  2.784961    17.454760     5.027284  103.028215      Germany   \n",
      "\n",
      "        id nr_counterparts      cars  labour_cost  humidity  windspeed  \\\n",
      "0  DZ83987             few  0.413614     2.237814  2.665311   2.831770   \n",
      "1  DZ80864            none  0.213533     2.543435  2.083593   3.369611   \n",
      "2  DZ05013            none  0.504168     2.446645  2.462123   2.382111   \n",
      "3  DZ18329            none  0.234218     1.919706  2.694815   4.118423   \n",
      "4  DZ25149             few  0.474206     2.688411  2.348723   0.590034   \n",
      "\n",
      "       size  \n",
      "0  0.748582  \n",
      "1  1.019265  \n",
      "2  0.578460  \n",
      "3  0.802346  \n",
      "4  0.848055  \n",
      "0    2\n",
      "1    2\n",
      "2    2\n",
      "3    2\n",
      "4    1\n",
      "Name: class, dtype: int64\n"
     ],
     "output_type": "stream"
    }
   ],
   "source": [
    "print(\"First five lines of covariates:\", x.head())\n",
    "print(\"First five labels:\", y.head())"
   ],
   "metadata": {
    "collapsed": false,
    "pycharm": {
     "name": "#%%\n",
     "is_executing": false
    }
   }
  },
  {
   "cell_type": "markdown",
   "source": [
    "Here is the shape of our data:"
   ],
   "metadata": {
    "collapsed": false,
    "pycharm": {
     "name": "#%% md\n"
    }
   }
  },
  {
   "cell_type": "code",
   "execution_count": 23,
   "outputs": [
    {
     "name": "stdout",
     "text": [
      "Shape of the covariates: (499, 13)\n",
      "Shape of the labels: (499,)\n"
     ],
     "output_type": "stream"
    }
   ],
   "source": [
    "print(\"Shape of the covariates:\", x.shape)  # Sanity check, to see what our data looks like.\n",
    "print(\"Shape of the labels:\", y.shape)"
   ],
   "metadata": {
    "collapsed": false,
    "pycharm": {
     "name": "#%%\n",
     "is_executing": false
    }
   }
  },
  {
   "cell_type": "markdown",
   "source": [
    "# Data preprocessing"
   ],
   "metadata": {
    "collapsed": false
   }
  },
  {
   "cell_type": "markdown",
   "metadata": {},
   "source": [
    "#### Feature selection"
   ]
  },
  {
   "cell_type": "markdown",
   "source": [
    "Let us have a look at the correlation coefficient between the labels and the covariates:"
   ],
   "metadata": {
    "collapsed": false,
    "pycharm": {
     "name": "#%% md\n"
    }
   }
  },
  {
   "cell_type": "code",
   "execution_count": 24,
   "outputs": [
    {
     "name": "stdout",
     "text": [
      "pub_trans      0.742013\n",
      "price         -0.011742\n",
      "temperature    0.208521\n",
      "inhabitants   -0.006517\n",
      "registered     0.045788\n",
      "cars           0.000198\n",
      "labour_cost   -0.776912\n",
      "humidity       0.099054\n",
      "windspeed      0.107189\n",
      "size          -0.068314\n",
      "dtype: float64\n"
     ],
     "output_type": "stream"
    }
   ],
   "source": [
    "print(x.corrwith(y))"
   ],
   "metadata": {
    "collapsed": false,
    "pycharm": {
     "name": "#%%\n",
     "is_executing": false
    }
   }
  },
  {
   "cell_type": "markdown",
   "metadata": {},
   "source": [
    "Evidently, not all features are relevant and we might as well _'forget'_ about them. We recall our features and mark them as relevant respectively irrelevant:\n",
    "\n",
    "\t\tpub_trans: public transport index  (irrelevant)\n",
    "\t\tprice: price to rent per km (relevant)\n",
    "\t\ttemperature: average tempereture during summer (relevant)\n",
    "\t\tinhabitants: number of inhabitants\n",
    "\t\tregistered: number of registered users in thousand (relevant)\n",
    "\t\tcountry: country (relevant)\n",
    "\t\tid: internal dataset code (irrelevant)\n",
    "\t\tnr_counterparts: nr_counterparts (irrelevant)\n",
    "\t\tcars: number of cars per inhabitant (relevant)\n",
    "\t\tlabour_cost: average labour cost in thousand per month\n",
    "\t\thumidity: absolute humidity in g/m3 (relevant)\n",
    "\t\twindspeed: average wind speed in km/h (irrelevant)\n",
    "\t\tsize: size of city center in km2 (irrelevant)\n",
    "\t\tclass: profitability (0 = loss, 1 = balanced, 2 = profit) <--- LABEL TO PREDICT !!!"
   ]
  },
  {
   "cell_type": "code",
   "execution_count": 24,
   "metadata": {
    "pycharm": {
     "is_executing": false
    }
   },
   "outputs": [],
   "source": []
  }
 ],
 "metadata": {
  "kernelspec": {
   "display_name": "Python 3",
   "language": "python",
   "name": "python3"
  },
  "language_info": {
   "codemirror_mode": {
    "name": "ipython",
    "version": 3
   },
   "file_extension": ".py",
   "mimetype": "text/x-python",
   "name": "python",
   "nbconvert_exporter": "python",
   "pygments_lexer": "ipython3",
   "version": "3.7.4"
  },
  "pycharm": {
   "stem_cell": {
    "cell_type": "raw",
    "source": [],
    "metadata": {
     "collapsed": false
    }
   }
  }
 },
 "nbformat": 4,
 "nbformat_minor": 4
}