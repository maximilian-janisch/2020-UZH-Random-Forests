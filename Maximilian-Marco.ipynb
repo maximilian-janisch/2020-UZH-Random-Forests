{
 "cells": [
  {
   "cell_type": "markdown",
   "metadata": {},
   "source": [
    "# Machine learning: Final Project"
   ]
  },
  {
   "cell_type": "markdown",
   "metadata": {},
   "source": [
    "## Authors: Maximilian Janisch and Marco Bertenghi"
   ]
  },
  {
   "cell_type": "markdown",
   "metadata": {},
   "source": [
    "### Problem Description"
   ]
  },
  {
   "cell_type": "markdown",
   "metadata": {},
   "source": [
    "We have been assigned a multi-class classification problem, that is we are interested in correctly predicting if a given input in $\\mathcal{X} = \\mathbb{R}^d$ belongs to one of __three__ classes (i.e. $\\mathcal{Y} = \\{0,1,2\\}$). We are instructed to solve this multi-class classification problem by reducing it to a sequence of binary classification problems (i.e. where $\\mathcal{Y}'=\\{0,1\\}$). We are __not__ allowed to use the multi-class implementation of sklearn and one of the models we must implement must be the random forest model. The goal of the project is then to describe and document in detail how to find and implement the best machine learning algorithm for the dataset assigned to us.\n"
   ]
  },
  {
   "cell_type": "markdown",
   "metadata": {},
   "source": [
    "We are given a __E-SCOOTER DATASET__. The dataset contains data about the profitability of e-scooter companies. The goal is to predict, as well as possible, the profitability of e-scooter companies by using the information provided. The dataset comes as a csv file (comma-separated values file), named dataset20.csv and contains the following description:"
   ]
  },
  {
   "cell_type": "markdown",
   "metadata": {},
   "source": [
    "__E-SCOOTER DATASET__\n",
    "\n",
    "----------------------------------------------\n",
    "\n",
    "__Dataset description__:\n",
    "The data is compiled from cities, towns, and small villages in Germany, Austria, and Switzerland, classified according to the profitability of e-scooter companies active in that location. There are __thirteen different features__ associated with each location. The goal is to predict the profitability of an e-scooter company (feature \"class\") from the other features.\n",
    "\n",
    "__Attention!__\n",
    "Please notice that the data has been artificially generated. The dataset does not reflect real-world statistical correlations between features and labels.\n",
    "\n",
    "\tNumber of samples: 500\n",
    "\tNumber of features: 13 (numeric and strings) + one column of class labels (0,1,2)\n",
    "\tFeatures description:\n",
    "\t\tpub_trans: public transport index\n",
    "\t\tprice: price to rent per km\n",
    "\t\ttemperature: average tempereture during summer\n",
    "\t\tinhabitants: number of inhabitants\n",
    "\t\tregistered: number of registered users in thousand\n",
    "\t\tcountry: country\n",
    "\t\tid: internal dataset code\n",
    "\t\tnr_counterparts: nr_counterparts\n",
    "\t\tcars: number of cars per inhabitant\n",
    "\t\tlabour_cost: average labour cost in thousand per month\n",
    "\t\thumidity: absolute humidity in g/m3\n",
    "\t\twindspeed: average wind speed in km/h\n",
    "\t\tsize: size of city center in km2\n",
    "\t\tclass: profitability (0 = loss, 1 = balanced, 2 = profit) <--- LABEL TO PREDICT\n",
    "\n",
    "----------------------------------------\n"
   ]
  },
  {
   "cell_type": "markdown",
   "metadata": {},
   "source": [
    "We notice that:\n",
    "\n",
    "+ We have a total of 500 samples.\n",
    "+ We have a total of 13 features.\n",
    " + Not all features will be relevant, more on that later.\n",
    "+ The profitability is a class, it is the label we want to predict.\n",
    "+ The CSV file uses ';' as a delimiter."
   ]
  },
  {
   "cell_type": "markdown",
   "metadata": {},
   "source": [
    "# Coding part"
   ]
  },
  {
   "cell_type": "markdown",
   "metadata": {},
   "source": [
    "## Reading in the data"
   ]
  },
  {
   "cell_type": "code",
   "execution_count": 3,
   "metadata": {},
   "outputs": [],
   "source": [
    "# Preliminary code, libraries we want to load\n",
    "import numpy as np\n",
    "import matplotlib.pyplot as plt\n",
    "import csv"
   ]
  },
  {
   "cell_type": "markdown",
   "metadata": {},
   "source": [
    "We will use the most basic (and reliable) method, which is via the csv.reader function of the csv package."
   ]
  },
  {
   "cell_type": "code",
   "execution_count": 30,
   "metadata": {},
   "outputs": [
    {
     "name": "stdout",
     "output_type": "stream",
     "text": [
      "(499, 14)\n",
      "(499,)\n"
     ]
    }
   ],
   "source": [
    "with open('dataset20.csv','r') as f:\n",
    "    data = csv.reader(f, delimiter = \";\") # we specify the delimiter as by \";\".\n",
    "\n",
    "    row = data.__next__()\n",
    "    features_names = np.array(row) # specification of the features\n",
    "\n",
    "    x = []  # Initialize empty lists x,y (vectors)\n",
    "    y = []\n",
    "\n",
    "    for row in data:\n",
    "        x.append(row)\n",
    "        y.append(row[1])\n",
    "\n",
    "    x = np.array(x)\n",
    "    y = np.array(y)\n",
    "\n",
    "print(x.shape)  # Sanity check, to see what our data looks like.\n",
    "print(y.shape)"
   ]
  },
  {
   "cell_type": "markdown",
   "metadata": {},
   "source": [
    "As a brief sanity check: We can have an idea of the dataset by printing the header (which contains the names of the columns) and the first line:"
   ]
  },
  {
   "cell_type": "code",
   "execution_count": 31,
   "metadata": {},
   "outputs": [
    {
     "name": "stdout",
     "output_type": "stream",
     "text": [
      "['pub_trans' 'price' 'temperature' 'inhabitants' 'registered' 'country'\n",
      " 'id' 'nr_counterparts' 'cars' 'labour_cost' 'humidity' 'windspeed' 'size'\n",
      " 'class']\n",
      "['14.202635088464051' '0.019018646290564982' '25.17513069713383'\n",
      " '2.3552816631348117' '118.02120779845077' 'Germany' 'DZ83987' 'few'\n",
      " '0.41361381893833177' '2.2378136716970234' '2.6653106348180056'\n",
      " '2.831770192097773' '0.7485818800190784' '2']\n"
     ]
    }
   ],
   "source": [
    "print(features_names)\n",
    "print(x[0,:])"
   ]
  },
  {
   "cell_type": "markdown",
   "metadata": {},
   "source": [
    "# Data preprocessing"
   ]
  },
  {
   "cell_type": "markdown",
   "metadata": {},
   "source": [
    "#### Feature selection"
   ]
  },
  {
   "cell_type": "markdown",
   "metadata": {},
   "source": [
    "Evidently, not all features are relevant and we might as well _'forget'_ about them. We recall our features and mark them as relevant respectively irrelevant:\n",
    "\n",
    "\t\tpub_trans: public transport index  (irrelevant)\n",
    "\t\tprice: price to rent per km (relevant)\n",
    "\t\ttemperature: average tempereture during summer (relevant)\n",
    "\t\tinhabitants: number of inhabitants\n",
    "\t\tregistered: number of registered users in thousand (relevant)\n",
    "\t\tcountry: country (relevant)\n",
    "\t\tid: internal dataset code (irrelevant)\n",
    "\t\tnr_counterparts: nr_counterparts (irrelevant)\n",
    "\t\tcars: number of cars per inhabitant (relevant)\n",
    "\t\tlabour_cost: average labour cost in thousand per month\n",
    "\t\thumidity: absolute humidity in g/m3 (relevant)\n",
    "\t\twindspeed: average wind speed in km/h (irrelevant)\n",
    "\t\tsize: size of city center in km2 (irrelevant)\n",
    "\t\tclass: profitability (0 = loss, 1 = balanced, 2 = profit) <--- LABEL TO PREDICT !!!"
   ]
  },
  {
   "cell_type": "code",
   "execution_count": null,
   "metadata": {},
   "outputs": [],
   "source": []
  }
 ],
 "metadata": {
  "kernelspec": {
   "display_name": "Python 3",
   "language": "python",
   "name": "python3"
  },
  "language_info": {
   "codemirror_mode": {
    "name": "ipython",
    "version": 3
   },
   "file_extension": ".py",
   "mimetype": "text/x-python",
   "name": "python",
   "nbconvert_exporter": "python",
   "pygments_lexer": "ipython3",
   "version": "3.7.4"
  }
 },
 "nbformat": 4,
 "nbformat_minor": 4
}
